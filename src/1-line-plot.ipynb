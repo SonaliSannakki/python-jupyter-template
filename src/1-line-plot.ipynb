import matplotlib.pyplot as plt
import numpy as np

# Data for plotting
x = np.linspace(0, 10, 100)  # x values ranging from 0 to 10
y = x**2  # y values as the square of x

# Create the plot
plt.plot(x, y)

# Customize the plot
plt.title("Line Plot: y = x^2")  # Title
plt.xlabel("x values")  # Label for x-axis
plt.ylabel("y values (x^2)")  # Label for y-axis
plt.grid(True)  # Show grid

# Display the plot
plt.show()
